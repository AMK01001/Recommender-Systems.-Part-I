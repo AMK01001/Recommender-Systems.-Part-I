{
 "cells": [
  {
   "cell_type": "markdown",
   "metadata": {},
   "source": [
    "# Построения РС Popularity-based model\n",
    "\n",
    "Для начала загрузим датасет \"Articles sharing and reading from CI&T DeskDrop\", включающий в себя собранные за один год логи DeskDrop — платформы для внутренних коммуникаций, разработанной CI&T и ориентированной на компании, использующие Google Workspace (Google G Suite). Среди прочего, эта платформа позволяет сотрудникам компаний делиться актуальными статьями со своими коллегами.\n",
    "\n",
    "В датасете содержится около 73 тысяч записей о взаимодействии пользователей с более чем тремя тысячами публичных статей, размещённых на платформе."
   ]
  },
  {
   "cell_type": "markdown",
   "metadata": {},
   "source": [
    "Информация в наборе данных:\n",
    "- Оригинальный URL, название и текст статьи.\n",
    "- Контекст посещений пользователей, например дата/время, клиент (мобильное приложение/браузер) и геолокация.\n",
    "- Различные типы взаимодействия, что позволяет сделать вывод об уровне заинтересованности пользователя в статьях, например комментарии → лайки → просмотры."
   ]
  },
  {
   "cell_type": "markdown",
   "metadata": {},
   "source": [
    "Данные включают в себя два файла:\n",
    "- shared_articles.csv;\n",
    "- users_interactions.csv.\n",
    "\n",
    "Начнём работать с файлом shared_articles.csv. Он содержит информацию о статьях, опубликованных на платформе DeskDrop."
   ]
  },
  {
   "cell_type": "markdown",
   "metadata": {},
   "source": [
    "Для каждой статьи есть:\n",
    "- дата публикации (временная метка),\n",
    "- исходный URL-адрес,\n",
    "- заголовок,\n",
    "- содержание в виде обычного текста,\n",
    "- язык статьи (португальский — pt или английский — en),\n",
    "- информация о пользователе, который поделился статьёй (автор)."
   ]
  },
  {
   "cell_type": "markdown",
   "metadata": {},
   "source": [
    "Для временной метки существует два возможных типа событий:\n",
    "- CONTENT SHARED — статья была опубликована на платформе и доступна для пользователей;\n",
    "- CONTENT REMOVED — статья была удалена с платформы и недоступна для дальнейших рекомендаций.\n",
    "\n",
    "Для простоты мы рассматриваем здесь только тип события CONTENT SHARED."
   ]
  },
  {
   "cell_type": "code",
   "execution_count": 3,
   "metadata": {},
   "outputs": [
    {
     "data": {
      "application/vnd.microsoft.datawrangler.viewer.v0+json": {
       "columns": [
        {
         "name": "index",
         "rawType": "int64",
         "type": "integer"
        },
        {
         "name": "timestamp",
         "rawType": "int64",
         "type": "integer"
        },
        {
         "name": "eventType",
         "rawType": "object",
         "type": "string"
        },
        {
         "name": "contentId",
         "rawType": "int64",
         "type": "integer"
        },
        {
         "name": "authorPersonId",
         "rawType": "int64",
         "type": "integer"
        },
        {
         "name": "authorSessionId",
         "rawType": "int64",
         "type": "integer"
        },
        {
         "name": "authorUserAgent",
         "rawType": "object",
         "type": "unknown"
        },
        {
         "name": "authorRegion",
         "rawType": "object",
         "type": "unknown"
        },
        {
         "name": "authorCountry",
         "rawType": "object",
         "type": "unknown"
        },
        {
         "name": "contentType",
         "rawType": "object",
         "type": "string"
        },
        {
         "name": "url",
         "rawType": "object",
         "type": "string"
        },
        {
         "name": "title",
         "rawType": "object",
         "type": "string"
        },
        {
         "name": "text",
         "rawType": "object",
         "type": "string"
        },
        {
         "name": "lang",
         "rawType": "object",
         "type": "string"
        }
       ],
       "conversionMethod": "pd.DataFrame",
       "ref": "ebebbccd-9266-4381-ae28-af067212635a",
       "rows": [
        [
         "0",
         "1459192779",
         "CONTENT REMOVED",
         "-6451309518266745024",
         "4340306774493623681",
         "8940341205206233829",
         null,
         null,
         null,
         "HTML",
         "http://www.nytimes.com/2016/03/28/business/dealbook/ethereum-a-virtual-currency-enables-transactions-that-rival-bitcoins.html",
         "Ethereum, a Virtual Currency, Enables Transactions That Rival Bitcoin's",
         "All of this work is still very early. The first full public version of the Ethereum software was recently released, and the system could face some of the same technical and legal problems that have tarnished Bitcoin. Many Bitcoin advocates say Ethereum will face more security problems than Bitcoin because of the greater complexity of the software. Thus far, Ethereum has faced much less testing, and many fewer attacks, than Bitcoin. The novel design of Ethereum may also invite intense scrutiny by authorities given that potentially fraudulent contracts, like the Ponzi schemes, can be written directly into the Ethereum system. But the sophisticated capabilities of the system have made it fascinating to some executives in corporate America. IBM said last year that it was experimenting with Ethereum as a way to control real world objects in the so-called Internet of things. Microsoft has been working on several projects that make it easier to use Ethereum on its computing cloud, Azure. \"Ethereum is a general platform where you can solve problems in many industries using a fairly elegant solution - the most elegant solution we have seen to date,\" said Marley Gray, a director of business development and strategy at Microsoft. Mr. Gray is responsible for Microsoft's work with blockchains, the database concept that Bitcoin introduced. Blockchains are designed to store transactions and data without requiring any central authority or repository. Blockchain ledgers are generally maintained and updated by networks of computers working together - somewhat similar to the way that Wikipedia is updated and maintained by all its users. Many corporations, though, have created their own Ethereum networks with private blockchains, independent of the public system, and that could ultimately detract from the value of the individual unit in the Ethereum system - known as an Ether - that people have recently been buying. The interest in Ethereum is one sign of the corporate fascination with blockchains. Most major banks have expressed an interest in using them to make trading and money transfer faster and more efficient. On Tuesday, executives from the largest banks will gather for a conference, \"Blockchain: Tapping I nto the Real Potential , Cutting Through the Hype.\" Many of these banks have recently been looking at how some version of Ethereum might be put to use. JPMorgan, for instance, has created a specific tool, Masala, that allows some of its internal databases to interact with an Ethereum blockchain. Michael Novogratz, a former top executive at the private equity firm Fortress Investing Group, who helped lead Fortress's investment in Bitcoin, has been looking at Ethereum since he left Fortress last fall. Mr. Novogratz said that he made a \"significant\" purchase of Ether in January. He has also heard how the financial industry's chatter about the virtual currency has evolved. \"A lot of the more established players were thinking, 'It's still an experiment,' \" he said. \"It feels like in the last two to three months that experiment is at least getting a lot more validation.\" Since the beginning of the year, the value of an individual unit of Ether has soared as high as $12 from around $1. That has brought the value of all existing Ether to over $1 billion at times, significantly more than any virtual currency other than Bitcoin, which had over $6 billion in value outstanding last week. Since Bitcoin was invented, there have been many so-called alt-coins that have tried to improve on Bitcoin, but none have won the following of Ethereum. Unlike Bitcoin, which was released in 2009 by a mysterious creator known as Satoshi Nakamoto, Ethereum was created in a more transparent fashion by a 21-year-old Russian-Canadian, Vitalik Buterin, after he dropped out of Waterloo University in Ontario. The most basic aim of Ethereum was to make it possible to program binding agreements into the blockchain - the smart contract concept. Two people, for instance, could program a bet on a sports game directly into the Ethereum blockchain. Once the final score came in from a mutually agreed upon source - say, The Associated Press - the money would be automatically transferred to the winning party. Ether can be used as a currency in this system, but Ether are also necessary to pay for the network power needed to process the bet. The Ethereum system has sometimes been described as a single shared computer that is run by the network of users and on which resources are parceled out and paid for by Ether. A team of seven co-founders helped Mr. Buterin write up the software after he released the initial description of the system. Mr. Buterin's team raised $18 million in 2014 through a presale of Ether, which helped fund the Ethereum Foundation, which supports the software's development. Like Bitcoin, Ethereum has succeeded by attracting a dedicated network of followers who have helped support the software, partly in the hope that their Ether will increase in value if the system succeeds. Last week, there were 5,800 computers - or nodes - helping support the network around the world. The Bitcoin network had about 7,400 nodes. One of Mr. Buterin's co-founders, Joseph Lubin, has set up ConsenSys, a company based in Brooklyn that has hired over 50 developers to build applications on the Ethereum system, including one that enables music distribution and another that allows for a new kind of financial auditing. The ConsenSys offices are in an old industrial building in the Bushwick section of Brooklyn. The office is essentially one large room, with all the messy trademarks of a start-up operation, including white boards on the walls and computer parts lying around. Mr. Lubin said he had thrown himself into Ethereum after starting to think that it delivered on some of the failed promise of Bitcoin, especially when it came to allowing new kinds of online contracts and markets. \"Bitcoin presented the broad strokes vision, and Ethereum presented the crystallization of how to deliver that vision,\" he said. Joseph Bonneau, a computer science researcher at Stanford who studies so-called crypto-currencies, said Ethereum was the first system that had really caught his interest since Bitcoin. It is far from a sure thing, he cautioned. \"Bitcoin is still probably the safest bet, but Ethereum is certainly No. 2, and some folks will say it is more likely to be around in 10 years,\" Mr. Bonneau said. \"It will depend if any real markets develop around it. If there is some actual application.\"",
         "en"
        ],
        [
         "1",
         "1459193988",
         "CONTENT SHARED",
         "-4110354420726924665",
         "4340306774493623681",
         "8940341205206233829",
         null,
         null,
         null,
         "HTML",
         "http://www.nytimes.com/2016/03/28/business/dealbook/ethereum-a-virtual-currency-enables-transactions-that-rival-bitcoins.html",
         "Ethereum, a Virtual Currency, Enables Transactions That Rival Bitcoin's",
         "All of this work is still very early. The first full public version of the Ethereum software was recently released, and the system could face some of the same technical and legal problems that have tarnished Bitcoin. Many Bitcoin advocates say Ethereum will face more security problems than Bitcoin because of the greater complexity of the software. Thus far, Ethereum has faced much less testing, and many fewer attacks, than Bitcoin. The novel design of Ethereum may also invite intense scrutiny by authorities given that potentially fraudulent contracts, like the Ponzi schemes, can be written directly into the Ethereum system. But the sophisticated capabilities of the system have made it fascinating to some executives in corporate America. IBM said last year that it was experimenting with Ethereum as a way to control real world objects in the so-called Internet of things. Microsoft has been working on several projects that make it easier to use Ethereum on its computing cloud, Azure. \"Ethereum is a general platform where you can solve problems in many industries using a fairly elegant solution - the most elegant solution we have seen to date,\" said Marley Gray, a director of business development and strategy at Microsoft. Mr. Gray is responsible for Microsoft's work with blockchains, the database concept that Bitcoin introduced. Blockchains are designed to store transactions and data without requiring any central authority or repository. Blockchain ledgers are generally maintained and updated by networks of computers working together - somewhat similar to the way that Wikipedia is updated and maintained by all its users. Many corporations, though, have created their own Ethereum networks with private blockchains, independent of the public system, and that could ultimately detract from the value of the individual unit in the Ethereum system - known as an Ether - that people have recently been buying. The interest in Ethereum is one sign of the corporate fascination with blockchains. Most major banks have expressed an interest in using them to make trading and money transfer faster and more efficient. On Tuesday, executives from the largest banks will gather for a conference, \"Blockchain: Tapping I nto the Real Potential , Cutting Through the Hype.\" Many of these banks have recently been looking at how some version of Ethereum might be put to use. JPMorgan, for instance, has created a specific tool, Masala, that allows some of its internal databases to interact with an Ethereum blockchain. Michael Novogratz, a former top executive at the private equity firm Fortress Investing Group, who helped lead Fortress's investment in Bitcoin, has been looking at Ethereum since he left Fortress last fall. Mr. Novogratz said that he made a \"significant\" purchase of Ether in January. He has also heard how the financial industry's chatter about the virtual currency has evolved. \"A lot of the more established players were thinking, 'It's still an experiment,' \" he said. \"It feels like in the last two to three months that experiment is at least getting a lot more validation.\" Since the beginning of the year, the value of an individual unit of Ether has soared as high as $12 from around $1. That has brought the value of all existing Ether to over $1 billion at times, significantly more than any virtual currency other than Bitcoin, which had over $6 billion in value outstanding last week. Since Bitcoin was invented, there have been many so-called alt-coins that have tried to improve on Bitcoin, but none have won the following of Ethereum. Unlike Bitcoin, which was released in 2009 by a mysterious creator known as Satoshi Nakamoto, Ethereum was created in a more transparent fashion by a 21-year-old Russian-Canadian, Vitalik Buterin, after he dropped out of Waterloo University in Ontario. The most basic aim of Ethereum was to make it possible to program binding agreements into the blockchain - the smart contract concept. Two people, for instance, could program a bet on a sports game directly into the Ethereum blockchain. Once the final score came in from a mutually agreed upon source - say, The Associated Press - the money would be automatically transferred to the winning party. Ether can be used as a currency in this system, but Ether are also necessary to pay for the network power needed to process the bet. The Ethereum system has sometimes been described as a single shared computer that is run by the network of users and on which resources are parceled out and paid for by Ether. A team of seven co-founders helped Mr. Buterin write up the software after he released the initial description of the system. Mr. Buterin's team raised $18 million in 2014 through a presale of Ether, which helped fund the Ethereum Foundation, which supports the software's development. Like Bitcoin, Ethereum has succeeded by attracting a dedicated network of followers who have helped support the software, partly in the hope that their Ether will increase in value if the system succeeds. Last week, there were 5,800 computers - or nodes - helping support the network around the world. The Bitcoin network had about 7,400 nodes. One of Mr. Buterin's co-founders, Joseph Lubin, has set up ConsenSys, a company based in Brooklyn that has hired over 50 developers to build applications on the Ethereum system, including one that enables music distribution and another that allows for a new kind of financial auditing. The ConsenSys offices are in an old industrial building in the Bushwick section of Brooklyn. The office is essentially one large room, with all the messy trademarks of a start-up operation, including white boards on the walls and computer parts lying around. Mr. Lubin said he had thrown himself into Ethereum after starting to think that it delivered on some of the failed promise of Bitcoin, especially when it came to allowing new kinds of online contracts and markets. \"Bitcoin presented the broad strokes vision, and Ethereum presented the crystallization of how to deliver that vision,\" he said. Joseph Bonneau, a computer science researcher at Stanford who studies so-called crypto-currencies, said Ethereum was the first system that had really caught his interest since Bitcoin. It is far from a sure thing, he cautioned. \"Bitcoin is still probably the safest bet, but Ethereum is certainly No. 2, and some folks will say it is more likely to be around in 10 years,\" Mr. Bonneau said. \"It will depend if any real markets develop around it. If there is some actual application.\"",
         "en"
        ],
        [
         "2",
         "1459194146",
         "CONTENT SHARED",
         "-7292285110016212249",
         "4340306774493623681",
         "8940341205206233829",
         null,
         null,
         null,
         "HTML",
         "http://cointelegraph.com/news/bitcoin-future-when-gbpcoin-of-branson-wins-over-usdcoin-of-trump",
         "Bitcoin Future: When GBPcoin of Branson Wins Over USDcoin of Trump",
         "The alarm clock wakes me at 8:00 with stream of advert-free broadcasting, charged at one satoshi per second. The current BTC exchange rate makes that snooze button a costly proposition! So I get up, make coffee and go to my computer to check the overnight performance of my bots. TradeBot earns me on Trump and Branson TradeBot, which allocates funds between the main chain and various national currency side-chains, generated a lucrative 0.24 BTC return. TradeBot has been reliably profitable ever since I set it to trade USDcoin according to political prediction market data. As expected, the latest poll numbers came in as highly supportive of Trump's re-election as USDcoin CEO. Trump's resistance to de-anonymizing public spending, by moving USDcoin off the Confidential Transactions layer, continues to erode his coin's credibility. In his latest speech, Trump maintains that full CT-privacy is essential to \"combatting CNYcoin's sinister ring-signature scheming.\" I make a note to increase my long position in GBPcoin. Following CEO Branson's memo to the effect that government finances and national banks be brought into compliance with the public blockchain , British corruption indices have flatlined. As the first national econmy to \"go light,\" Britain leads the global recovery from the Great Debt Default of '20. Happy with the GoatData Project I check TeachBot and note that it's performing in-line with expectations. TeachBot serves as an autonomous info-agent between various contracting AIs and data providers. The 0.5 BTC bounty it awarded to a team of Sherpas to outfit a herd of Tibetan mountain goats with full motion-sensing rigs has already been repaid...I check the latest figures... four times over! My best TeachBot strategy to date, the GoatData project provides valuable data to WinterHoof, the Artificial General Intelligence in charge of the Swiss military's quadripedal robotics program. At this rate, I'll soon have enough BTC to retire to Satoshi City on Mars!",
         "en"
        ],
        [
         "3",
         "1459194474",
         "CONTENT SHARED",
         "-6151852268067518688",
         "3891637997717104548",
         "-1457532940883382585",
         null,
         null,
         null,
         "HTML",
         "https://cloudplatform.googleblog.com/2016/03/Google-Data-Center-360-Tour.html",
         "Google Data Center 360° Tour",
         "We're excited to share the Google Data Center 360° Tour - a YouTube 360° video that gives you an unprecedented and immersive look inside one of our data centers. There are several ways to view this video: On desktop using Google Chrome use your mouse or trackpad to change your view while the video plays YouTube app on mobile - move your device around to look at all angles while the video plays And the most immersive way to view - using Google Cardboard (currently supported by the Android YouTube app only, iOS support is coming soon!) Load the video in the YouTube app and tap on the Cardboard icon when the video starts to play. Insert your phone in Cardboard and look around. A little background . . . Several months ago, those of us on the Google Cloud Developer Advocacy Team had a rare opportunity to tour the Google data center in The Dalles, Oregon. Many of us had seen other non-Google data centers in our careers, but this experience was beyond anything we ever imagined. We were blown away by the scale, the incredible attention to security and privacy, and the amazing efforts to make the data center extremely efficient and green. Additionally, we were proud to meet some of the brilliant people that design, build and maintain these data centers. If you are a Google Cloud Platform customer, then this is your data center as much as it is our data center, so we want you to experience what we experienced. We hope you enjoy it! - Posted by Greg Wilson, Head of Developer Advocacy, Google Cloud Platform",
         "en"
        ],
        [
         "4",
         "1459194497",
         "CONTENT SHARED",
         "2448026894306402386",
         "4340306774493623681",
         "8940341205206233829",
         null,
         null,
         null,
         "HTML",
         "https://bitcoinmagazine.com/articles/ibm-wants-to-evolve-the-internet-with-blockchain-technology-1459189322",
         "IBM Wants to \"Evolve the Internet\" With Blockchain Technology",
         "The Aite Group projects the blockchain market could be valued at $400 million by 2019. For that reason, some of the biggest names in banking, industry and technology have entered into the space to evaluate how this technology could change the financial world. IBM and Linux, for instance, have brought together some of the brightest minds in the industry and technology to work on blockchain technology through the Hyperledger Project. The Hyperledger Project is under the umbrella of the Linux Foundation, and seeks to incorporate findings by blockchain projects such as Blockstream, Ripple, Digital Asset Holdings and others in order to make blockchain technology useful for the world's biggest corporations. IBM has also contributed its own code to the project. According to John Wolpert, IBM's Global Blockchain Offering Director, when IBM and Linux began working together on the blockchain project, Linux made clear it wanted to \"disrupt the disruption,\" in part with their findings, as well as the data gathered by projects such as Ripple, Ethereum and others exploring the blockchain. The Linux foundation announced its Hyperledger project on December 17, 2015. Just one day later, 2,300 companies had requested to join. The second-largest open source foundation in the history of open source had only 450 inquiries. \"So, it's either going to be a holy mess or it's going to change the world,\" Wolpert said at The Blockchain Conference in San Francisco presented by Lighthouse Partners. As Wolford puts it, a team of IBMers is \"on a quest\" to understand and \"do something important\" with blockchain technology. \"I don't know why we got this rap in the '70s, way back, that we are not cool, that we're kind of stodgy, and that is not the IBM of my experience,\" Wolpert, who founded the taxi service Flywheel, explained. \"We're the original crazy people. The craziest people are the guys at IBM in the '60s and '70s -- you can imagine what they were doing in the '60s -- they are wild-eyed revolutionaries.\" Although this is not the image IBM markets, their work in quantum computing, quantum teleportation and neuro semantic chips count among some of the \"cool stuff\" IBM does, says Wolpert. IBM also approaches projects in the spirit of open innovation, and not proprietarily. \"Our method of operations is open, and it's often our MO to back not-our-thing,\" he said of IBM since the 1990s. Wolpert cites Java as one such project: \"You would not know about Java today if it weren't for IBM.\" As a \"pretty young dude,\" Wolpert was in the room when IBM made a billion-dollar decision to back Linux over its own technology. He also cites IBM's work on XML as an example of IBM's dedication to open innovation. Currently, IBM has employees working on crypto-security and distributed systems who have been working on consensus algorithms for their entire careers, some for more than 30 years. \"They're crazy smart, we're planetary, we've gone from a couple of guys in a canoe, to a platoon and approaching an army of people working on blockchain,\" Wolpert said. \"So it feels a lot like my first job at IBM which was making Java real for business.\" This has led old and new friends to contact the the multinational technology and consulting corporation. \"Banks who have been calling us constantly ... saying 'What's your view on blockchain?' or 'Hey, let's do a project together on blockchain,'\" Wolpert said. \"We've been doing all these crazy projects on blockchain, every kind of blockchain, and learning a lot, been doing that for a couple years and really started to accelerate last year.\" Today, there is a whole unit dedicated to blockchain technology at Linux Foundation. \"We went all-in on blockchain,\" he explained. What's it all about for Wolpert? \"It's about evolving the Internet.\" Bitcoin is important for moving money around without a single authority. \"[Bitcoin] is a solution to a problem, a specific problem, of people who need to move money around in environments where you don't trust the government,\" Wolpert said. \"I think we can all agree we are approaching the end of the era where a single authority manages trust and gets compensated for the risk in doing so.\" In Wolpert's view, finance does not need to go from today's system of trust -- where consumers trust institutions to handle their money -- to one of complete trustlessness, like the Bitcoin system in which a protocol, not a centralized authority, manages the movement of value. \"It doesn't follow, having one single trust authority to trustlessness on everything,\" he said. \"There is a false dichotomy between the notion of trust and trustlessness, that you have to have a walled garden on one side and Bitcoin on the other.\" He doesn't compare Bitcoin to the Internet, saying that's a wrong analogy. \"It is not apt to say the Internet is like Bitcoin; the Internet is, from the perspective of Bitcoin, a permissioned walled garden,\" he said. \"Ever heard of ICANN? It's permissive, but it's permissioned.\" Bitcoin, Ripple and Ethereum are \"Iteration 1\" of blockchain technology, the three time IBMer told his audience. Wolpert thinks blockchain technology will soon evolve to \"Iteration 2.\" The problem with it? \"The Internet is constrained,\" Wolpert said. \"You have a fabric that allows for lots of competition on platforms and huge amounts of competition on solutions and applications on top of it, so we need to evolve the Internet to become economically aware, and that Internet isn't going to be an application, it is going to be a fabric and then lots of applications on top of that.\" This doesn't mean blockchain 2.0 technologies such as Blockstream, Ethereum and Ripple are lost causes that must now completely retool. The Linux Foundation, in fact, works with Ethereum and Ripple employees. With its blockchain projects, IBM is not focused on moving a cryptocurrency. \"Lots of banks pay us lots of money and we like that, and we want to radically improve them,\" Wolpert explained. \"[Bankers] are gonna try like heck to radically improve what is going on ahead of the disruption, disrupt themselves if you will. If you look at things like [Overstock's] t0, that's happening, might happen on Bitcoin protocol, but might not, and there's plenty of ways to solve it, when you commit to it. And sure, Bitcoin has woken [banks] up to this, so it's doing its job, it's disrupting the thinking and maybe that is all that is necessary.\" Wolpert wonders aloud during his speech if the world would have iTunes were it not for Napster, or Netflix if it weren't for BitTorrent. The former head of products for IBM's Watson Ecosystem says IBM currently has a \"boomtown with giant numbers of people at IBM and everywhere else\" investigating the blockchain problem and how distributed technology can be made useful for industry. He details how oftentimes IBM tinkers with open innovations itself to make the technology ready for industry. That's not the route being taken with Bitcoin. That the Bitcoin network is on par with Ireland for energy consumption, and that mining consortiums could eventually dictate that market, scares the firm away from dealing directly with Bitcoin. \"What I want to see, what we want to see, is a world full of companies who I can know, who I can identify, who are so spread out, like the Internet,\" he said. Wolpert cites the Arab Spring, and the role the Internet played in that uprising, as how a permissioned, yet permissive, structure functions. Websites, albeit technology permissioned by ICANN, remained online during the protests and played a major role. What's the risk in experimenting with blockchain? \"The risk is we go crazy, we have an unruly mess,\" Wolpert warned. \"[But] it's the Linux Foundation, we've been in this movie before. While there's a lot of really smart guys working on Bitcoin and startups, we've got equally amount of people who also have 20 or 30 years of experience with open source and open innovation, and I think we have a good shot at maintaining restraints, keeping it scoped down, keeping it simple, but getting it to something that is useful.\"",
         "en"
        ]
       ],
       "shape": {
        "columns": 13,
        "rows": 5
       }
      },
      "text/html": [
       "<div>\n",
       "<style scoped>\n",
       "    .dataframe tbody tr th:only-of-type {\n",
       "        vertical-align: middle;\n",
       "    }\n",
       "\n",
       "    .dataframe tbody tr th {\n",
       "        vertical-align: top;\n",
       "    }\n",
       "\n",
       "    .dataframe thead th {\n",
       "        text-align: right;\n",
       "    }\n",
       "</style>\n",
       "<table border=\"1\" class=\"dataframe\">\n",
       "  <thead>\n",
       "    <tr style=\"text-align: right;\">\n",
       "      <th></th>\n",
       "      <th>timestamp</th>\n",
       "      <th>eventType</th>\n",
       "      <th>contentId</th>\n",
       "      <th>authorPersonId</th>\n",
       "      <th>authorSessionId</th>\n",
       "      <th>authorUserAgent</th>\n",
       "      <th>authorRegion</th>\n",
       "      <th>authorCountry</th>\n",
       "      <th>contentType</th>\n",
       "      <th>url</th>\n",
       "      <th>title</th>\n",
       "      <th>text</th>\n",
       "      <th>lang</th>\n",
       "    </tr>\n",
       "  </thead>\n",
       "  <tbody>\n",
       "    <tr>\n",
       "      <th>0</th>\n",
       "      <td>1459192779</td>\n",
       "      <td>CONTENT REMOVED</td>\n",
       "      <td>-6451309518266745024</td>\n",
       "      <td>4340306774493623681</td>\n",
       "      <td>8940341205206233829</td>\n",
       "      <td>NaN</td>\n",
       "      <td>NaN</td>\n",
       "      <td>NaN</td>\n",
       "      <td>HTML</td>\n",
       "      <td>http://www.nytimes.com/2016/03/28/business/dea...</td>\n",
       "      <td>Ethereum, a Virtual Currency, Enables Transact...</td>\n",
       "      <td>All of this work is still very early. The firs...</td>\n",
       "      <td>en</td>\n",
       "    </tr>\n",
       "    <tr>\n",
       "      <th>1</th>\n",
       "      <td>1459193988</td>\n",
       "      <td>CONTENT SHARED</td>\n",
       "      <td>-4110354420726924665</td>\n",
       "      <td>4340306774493623681</td>\n",
       "      <td>8940341205206233829</td>\n",
       "      <td>NaN</td>\n",
       "      <td>NaN</td>\n",
       "      <td>NaN</td>\n",
       "      <td>HTML</td>\n",
       "      <td>http://www.nytimes.com/2016/03/28/business/dea...</td>\n",
       "      <td>Ethereum, a Virtual Currency, Enables Transact...</td>\n",
       "      <td>All of this work is still very early. The firs...</td>\n",
       "      <td>en</td>\n",
       "    </tr>\n",
       "    <tr>\n",
       "      <th>2</th>\n",
       "      <td>1459194146</td>\n",
       "      <td>CONTENT SHARED</td>\n",
       "      <td>-7292285110016212249</td>\n",
       "      <td>4340306774493623681</td>\n",
       "      <td>8940341205206233829</td>\n",
       "      <td>NaN</td>\n",
       "      <td>NaN</td>\n",
       "      <td>NaN</td>\n",
       "      <td>HTML</td>\n",
       "      <td>http://cointelegraph.com/news/bitcoin-future-w...</td>\n",
       "      <td>Bitcoin Future: When GBPcoin of Branson Wins O...</td>\n",
       "      <td>The alarm clock wakes me at 8:00 with stream o...</td>\n",
       "      <td>en</td>\n",
       "    </tr>\n",
       "    <tr>\n",
       "      <th>3</th>\n",
       "      <td>1459194474</td>\n",
       "      <td>CONTENT SHARED</td>\n",
       "      <td>-6151852268067518688</td>\n",
       "      <td>3891637997717104548</td>\n",
       "      <td>-1457532940883382585</td>\n",
       "      <td>NaN</td>\n",
       "      <td>NaN</td>\n",
       "      <td>NaN</td>\n",
       "      <td>HTML</td>\n",
       "      <td>https://cloudplatform.googleblog.com/2016/03/G...</td>\n",
       "      <td>Google Data Center 360° Tour</td>\n",
       "      <td>We're excited to share the Google Data Center ...</td>\n",
       "      <td>en</td>\n",
       "    </tr>\n",
       "    <tr>\n",
       "      <th>4</th>\n",
       "      <td>1459194497</td>\n",
       "      <td>CONTENT SHARED</td>\n",
       "      <td>2448026894306402386</td>\n",
       "      <td>4340306774493623681</td>\n",
       "      <td>8940341205206233829</td>\n",
       "      <td>NaN</td>\n",
       "      <td>NaN</td>\n",
       "      <td>NaN</td>\n",
       "      <td>HTML</td>\n",
       "      <td>https://bitcoinmagazine.com/articles/ibm-wants...</td>\n",
       "      <td>IBM Wants to \"Evolve the Internet\" With Blockc...</td>\n",
       "      <td>The Aite Group projects the blockchain market ...</td>\n",
       "      <td>en</td>\n",
       "    </tr>\n",
       "  </tbody>\n",
       "</table>\n",
       "</div>"
      ],
      "text/plain": [
       "    timestamp        eventType            contentId       authorPersonId  \\\n",
       "0  1459192779  CONTENT REMOVED -6451309518266745024  4340306774493623681   \n",
       "1  1459193988   CONTENT SHARED -4110354420726924665  4340306774493623681   \n",
       "2  1459194146   CONTENT SHARED -7292285110016212249  4340306774493623681   \n",
       "3  1459194474   CONTENT SHARED -6151852268067518688  3891637997717104548   \n",
       "4  1459194497   CONTENT SHARED  2448026894306402386  4340306774493623681   \n",
       "\n",
       "       authorSessionId authorUserAgent authorRegion authorCountry contentType  \\\n",
       "0  8940341205206233829             NaN          NaN           NaN        HTML   \n",
       "1  8940341205206233829             NaN          NaN           NaN        HTML   \n",
       "2  8940341205206233829             NaN          NaN           NaN        HTML   \n",
       "3 -1457532940883382585             NaN          NaN           NaN        HTML   \n",
       "4  8940341205206233829             NaN          NaN           NaN        HTML   \n",
       "\n",
       "                                                 url  \\\n",
       "0  http://www.nytimes.com/2016/03/28/business/dea...   \n",
       "1  http://www.nytimes.com/2016/03/28/business/dea...   \n",
       "2  http://cointelegraph.com/news/bitcoin-future-w...   \n",
       "3  https://cloudplatform.googleblog.com/2016/03/G...   \n",
       "4  https://bitcoinmagazine.com/articles/ibm-wants...   \n",
       "\n",
       "                                               title  \\\n",
       "0  Ethereum, a Virtual Currency, Enables Transact...   \n",
       "1  Ethereum, a Virtual Currency, Enables Transact...   \n",
       "2  Bitcoin Future: When GBPcoin of Branson Wins O...   \n",
       "3                       Google Data Center 360° Tour   \n",
       "4  IBM Wants to \"Evolve the Internet\" With Blockc...   \n",
       "\n",
       "                                                text lang  \n",
       "0  All of this work is still very early. The firs...   en  \n",
       "1  All of this work is still very early. The firs...   en  \n",
       "2  The alarm clock wakes me at 8:00 with stream o...   en  \n",
       "3  We're excited to share the Google Data Center ...   en  \n",
       "4  The Aite Group projects the blockchain market ...   en  "
      ]
     },
     "execution_count": 3,
     "metadata": {},
     "output_type": "execute_result"
    }
   ],
   "source": [
    "import pandas as pd\n",
    "import numpy as np\n",
    "\n",
    "shared_articles = pd.read_csv('data/shared_articles.csv')\n",
    "shared_articles.head()"
   ]
  },
  {
   "cell_type": "markdown",
   "metadata": {},
   "source": [
    "Задание 6.1\n",
    "\n",
    "Отфильтруйте данные так, чтобы остались только объекты с типом события CONTENT SHARED. Сколько таких объектов в получившейся таблице?"
   ]
  },
  {
   "cell_type": "code",
   "execution_count": 5,
   "metadata": {},
   "outputs": [
    {
     "name": "stdout",
     "output_type": "stream",
     "text": [
      "<class 'pandas.core.frame.DataFrame'>\n",
      "Index: 3047 entries, 1 to 3121\n",
      "Data columns (total 13 columns):\n",
      " #   Column           Non-Null Count  Dtype \n",
      "---  ------           --------------  ----- \n",
      " 0   timestamp        3047 non-null   int64 \n",
      " 1   eventType        3047 non-null   object\n",
      " 2   contentId        3047 non-null   int64 \n",
      " 3   authorPersonId   3047 non-null   int64 \n",
      " 4   authorSessionId  3047 non-null   int64 \n",
      " 5   authorUserAgent  669 non-null    object\n",
      " 6   authorRegion     669 non-null    object\n",
      " 7   authorCountry    669 non-null    object\n",
      " 8   contentType      3047 non-null   object\n",
      " 9   url              3047 non-null   object\n",
      " 10  title            3047 non-null   object\n",
      " 11  text             3047 non-null   object\n",
      " 12  lang             3047 non-null   object\n",
      "dtypes: int64(4), object(9)\n",
      "memory usage: 333.3+ KB\n"
     ]
    }
   ],
   "source": [
    "content_shared = shared_articles[shared_articles['eventType'] == 'CONTENT SHARED'] \n",
    "content_shared.info()"
   ]
  },
  {
   "cell_type": "markdown",
   "metadata": {},
   "source": [
    "Теперь откроем второй файл — users_interactions.csv."
   ]
  },
  {
   "cell_type": "code",
   "execution_count": 39,
   "metadata": {},
   "outputs": [
    {
     "data": {
      "application/vnd.microsoft.datawrangler.viewer.v0+json": {
       "columns": [
        {
         "name": "index",
         "rawType": "int64",
         "type": "integer"
        },
        {
         "name": "timestamp",
         "rawType": "int64",
         "type": "integer"
        },
        {
         "name": "eventType",
         "rawType": "object",
         "type": "string"
        },
        {
         "name": "contentId",
         "rawType": "int64",
         "type": "integer"
        },
        {
         "name": "personId",
         "rawType": "int64",
         "type": "integer"
        },
        {
         "name": "sessionId",
         "rawType": "int64",
         "type": "integer"
        },
        {
         "name": "userAgent",
         "rawType": "object",
         "type": "unknown"
        },
        {
         "name": "userRegion",
         "rawType": "object",
         "type": "unknown"
        },
        {
         "name": "userCountry",
         "rawType": "object",
         "type": "unknown"
        }
       ],
       "conversionMethod": "pd.DataFrame",
       "ref": "83cb1140-a670-4ed3-898c-37b20abf8cce",
       "rows": [
        [
         "0",
         "1465413032",
         "VIEW",
         "-3499919498720038879",
         "-8845298781299428018",
         "1264196770339959068",
         null,
         null,
         null
        ],
        [
         "1",
         "1465412560",
         "VIEW",
         "8890720798209849691",
         "-1032019229384696495",
         "3621737643587579081",
         "Mozilla/5.0 (Macintosh; Intel Mac OS X 10_11_2) AppleWebKit/537.36 (KHTML, like Gecko) Chrome/52.0.2743.24 Safari/537.36",
         "NY",
         "US"
        ],
        [
         "2",
         "1465416190",
         "VIEW",
         "310515487419366995",
         "-1130272294246983140",
         "2631864456530402479",
         null,
         null,
         null
        ],
        [
         "3",
         "1465413895",
         "FOLLOW",
         "310515487419366995",
         "344280948527967603",
         "-3167637573980064150",
         null,
         null,
         null
        ],
        [
         "4",
         "1465412290",
         "VIEW",
         "-7820640624231356730",
         "-445337111692715325",
         "5611481178424124714",
         null,
         null,
         null
        ]
       ],
       "shape": {
        "columns": 8,
        "rows": 5
       }
      },
      "text/html": [
       "<div>\n",
       "<style scoped>\n",
       "    .dataframe tbody tr th:only-of-type {\n",
       "        vertical-align: middle;\n",
       "    }\n",
       "\n",
       "    .dataframe tbody tr th {\n",
       "        vertical-align: top;\n",
       "    }\n",
       "\n",
       "    .dataframe thead th {\n",
       "        text-align: right;\n",
       "    }\n",
       "</style>\n",
       "<table border=\"1\" class=\"dataframe\">\n",
       "  <thead>\n",
       "    <tr style=\"text-align: right;\">\n",
       "      <th></th>\n",
       "      <th>timestamp</th>\n",
       "      <th>eventType</th>\n",
       "      <th>contentId</th>\n",
       "      <th>personId</th>\n",
       "      <th>sessionId</th>\n",
       "      <th>userAgent</th>\n",
       "      <th>userRegion</th>\n",
       "      <th>userCountry</th>\n",
       "    </tr>\n",
       "  </thead>\n",
       "  <tbody>\n",
       "    <tr>\n",
       "      <th>0</th>\n",
       "      <td>1465413032</td>\n",
       "      <td>VIEW</td>\n",
       "      <td>-3499919498720038879</td>\n",
       "      <td>-8845298781299428018</td>\n",
       "      <td>1264196770339959068</td>\n",
       "      <td>NaN</td>\n",
       "      <td>NaN</td>\n",
       "      <td>NaN</td>\n",
       "    </tr>\n",
       "    <tr>\n",
       "      <th>1</th>\n",
       "      <td>1465412560</td>\n",
       "      <td>VIEW</td>\n",
       "      <td>8890720798209849691</td>\n",
       "      <td>-1032019229384696495</td>\n",
       "      <td>3621737643587579081</td>\n",
       "      <td>Mozilla/5.0 (Macintosh; Intel Mac OS X 10_11_2...</td>\n",
       "      <td>NY</td>\n",
       "      <td>US</td>\n",
       "    </tr>\n",
       "    <tr>\n",
       "      <th>2</th>\n",
       "      <td>1465416190</td>\n",
       "      <td>VIEW</td>\n",
       "      <td>310515487419366995</td>\n",
       "      <td>-1130272294246983140</td>\n",
       "      <td>2631864456530402479</td>\n",
       "      <td>NaN</td>\n",
       "      <td>NaN</td>\n",
       "      <td>NaN</td>\n",
       "    </tr>\n",
       "    <tr>\n",
       "      <th>3</th>\n",
       "      <td>1465413895</td>\n",
       "      <td>FOLLOW</td>\n",
       "      <td>310515487419366995</td>\n",
       "      <td>344280948527967603</td>\n",
       "      <td>-3167637573980064150</td>\n",
       "      <td>NaN</td>\n",
       "      <td>NaN</td>\n",
       "      <td>NaN</td>\n",
       "    </tr>\n",
       "    <tr>\n",
       "      <th>4</th>\n",
       "      <td>1465412290</td>\n",
       "      <td>VIEW</td>\n",
       "      <td>-7820640624231356730</td>\n",
       "      <td>-445337111692715325</td>\n",
       "      <td>5611481178424124714</td>\n",
       "      <td>NaN</td>\n",
       "      <td>NaN</td>\n",
       "      <td>NaN</td>\n",
       "    </tr>\n",
       "  </tbody>\n",
       "</table>\n",
       "</div>"
      ],
      "text/plain": [
       "    timestamp eventType            contentId             personId  \\\n",
       "0  1465413032      VIEW -3499919498720038879 -8845298781299428018   \n",
       "1  1465412560      VIEW  8890720798209849691 -1032019229384696495   \n",
       "2  1465416190      VIEW   310515487419366995 -1130272294246983140   \n",
       "3  1465413895    FOLLOW   310515487419366995   344280948527967603   \n",
       "4  1465412290      VIEW -7820640624231356730  -445337111692715325   \n",
       "\n",
       "             sessionId                                          userAgent  \\\n",
       "0  1264196770339959068                                                NaN   \n",
       "1  3621737643587579081  Mozilla/5.0 (Macintosh; Intel Mac OS X 10_11_2...   \n",
       "2  2631864456530402479                                                NaN   \n",
       "3 -3167637573980064150                                                NaN   \n",
       "4  5611481178424124714                                                NaN   \n",
       "\n",
       "  userRegion userCountry  \n",
       "0        NaN         NaN  \n",
       "1         NY          US  \n",
       "2        NaN         NaN  \n",
       "3        NaN         NaN  \n",
       "4        NaN         NaN  "
      ]
     },
     "execution_count": 39,
     "metadata": {},
     "output_type": "execute_result"
    }
   ],
   "source": [
    "import pandas as pd\n",
    "import numpy as np\n",
    "\n",
    "users_interactions = pd.read_csv('data/users_interactions.csv')\n",
    "users_interactions.head()"
   ]
  },
  {
   "cell_type": "markdown",
   "metadata": {},
   "source": [
    "Давайте предварительно преобразуем столбцы personId, contentId в таблицах к строкам. Это преобразование пригодится нам в дальнейшем:\n"
   ]
  },
  {
   "cell_type": "code",
   "execution_count": 40,
   "metadata": {},
   "outputs": [
    {
     "name": "stderr",
     "output_type": "stream",
     "text": [
      "C:\\Users\\alexD\\AppData\\Local\\Temp\\ipykernel_17748\\157489056.py:3: SettingWithCopyWarning: \n",
      "A value is trying to be set on a copy of a slice from a DataFrame.\n",
      "Try using .loc[row_indexer,col_indexer] = value instead\n",
      "\n",
      "See the caveats in the documentation: https://pandas.pydata.org/pandas-docs/stable/user_guide/indexing.html#returning-a-view-versus-a-copy\n",
      "  content_shared.contentId = content_shared.contentId.astype(str)\n"
     ]
    }
   ],
   "source": [
    "users_interactions.personId = users_interactions.personId.astype(str)\n",
    "users_interactions.contentId = users_interactions.contentId.astype(str)\n",
    "content_shared.contentId = content_shared.contentId.astype(str)"
   ]
  },
  {
   "cell_type": "markdown",
   "metadata": {},
   "source": [
    "В колонке eventType описаны действия, которые могли совершать пользователи при взаимодействии со статьёй:\n",
    "- VIEW — просмотр,\n",
    "- LIKE — лайк,\n",
    "- COMMENT CREATED — комментарий,\n",
    "- FOLLOW — подписка,\n",
    "- BOOKMARK — добавление в закладки.\n",
    "\n",
    "В первую очередь нам необходимо понять, как определить, что какая-то статья популярнее других. Если бы из возможных реакций у нас были только лайки или только просмотры, то статьи было бы легко ранжировать в соответствии с этими значениями. Однако у нас есть информация о различных действиях пользователя, и на её основе мы должны создать некий универсальный индекс популярности. Составим его из реакций пользователей, придав им разные веса:"
   ]
  },
  {
   "cell_type": "code",
   "execution_count": 23,
   "metadata": {},
   "outputs": [],
   "source": [
    "event_type = {\n",
    "   'VIEW': 1.0,\n",
    "   'LIKE': 2.0, \n",
    "   'BOOKMARK': 2.5, \n",
    "   'FOLLOW': 3.0,\n",
    "   'COMMENT CREATED': 4.0,  \n",
    "}"
   ]
  },
  {
   "cell_type": "markdown",
   "metadata": {},
   "source": [
    "Веса здесь подобраны исходя из важности каждого действия: оставить комментарий — значит, показать наибольшую вовлечённость, а обычный просмотр, напротив, демонстрирует наименьшую вовлечённость."
   ]
  },
  {
   "cell_type": "markdown",
   "metadata": {},
   "source": [
    "Задание 6.2\n",
    "\n",
    "Создайте признак, который будет отражать числовой вес для взаимодействия со статьёй (в соответствии с приведёнными выше весами). Вычислите среднее значение для полученного признака. Округлите его до двух знаков после точки-разделителя."
   ]
  },
  {
   "cell_type": "code",
   "execution_count": 42,
   "metadata": {},
   "outputs": [
    {
     "name": "stdout",
     "output_type": "stream",
     "text": [
      "Среднее значение веса взаимодействия: 1.24\n"
     ]
    }
   ],
   "source": [
    "# Словарь с весами типа события\n",
    "event_type = {\n",
    "   'VIEW': 1.0,\n",
    "   'LIKE': 2.0,\n",
    "   'BOOKMARK': 2.5,\n",
    "   'FOLLOW': 3.0,\n",
    "   'COMMENT CREATED': 4.0,  \n",
    "}\n",
    "\n",
    "# Переименовываем столбец eventType в event_type (если нужно)\n",
    "users_interactions.rename(columns={'eventType': 'event_type'}, inplace=True)\n",
    "\n",
    "# Добавляем столбец с весами взаимодействий\n",
    "users_interactions['interaction_weight'] = users_interactions['event_type'].map(event_type)\n",
    "\n",
    "# Вычисляем среднее значение interaction_weight и округляем до 2 знаков\n",
    "average_weight = round(users_interactions['interaction_weight'].mean(), 2)\n",
    "\n",
    "# Выводим результат\n",
    "print(f\"Среднее значение веса взаимодействия: {average_weight}\")"
   ]
  },
  {
   "cell_type": "markdown",
   "metadata": {},
   "source": [
    "Ранее мы говорили, что рекомендательные системы подвержены проблеме холодного старта — в таких случаях создавать рекомендации намного сложнее.\n",
    "\n",
    "Задание 6.3\n",
    "\n",
    "Чтобы получить хоть какую-то информацию, на которую можно будет опираться, оставьте только тех пользователей, которые взаимодействовали хотя бы с пятью статьями. Сколько всего таких пользователей?"
   ]
  },
  {
   "cell_type": "code",
   "execution_count": 51,
   "metadata": {},
   "outputs": [
    {
     "name": "stdout",
     "output_type": "stream",
     "text": [
      "1140\n"
     ]
    }
   ],
   "source": [
    "user_article_counts = (\n",
    "    users_interactions\n",
    "    .groupby(['personId', 'contentId'])\n",
    "    .first()\n",
    "    .reset_index()\n",
    "    .groupby('personId').size())\n",
    "\n",
    "users_with_enough_interactions = \\\n",
    "    user_article_counts[user_article_counts >= 5].reset_index()[['personId']]\n",
    "\n",
    "print(len(users_with_enough_interactions))"
   ]
  },
  {
   "cell_type": "markdown",
   "metadata": {},
   "source": [
    "Задание 6.4\n",
    "\n",
    "Теперь оставим только те взаимодействия, которые касаются только отфильтрованных пользователей (то есть тех, которые взаимодействовали как минимум с пятью статьями). Сколько всего таких взаимодействий?\n",
    "\n",
    "В этом задании необходимо работать с данными, полученными в задании 6.3."
   ]
  },
  {
   "cell_type": "code",
   "execution_count": 52,
   "metadata": {},
   "outputs": [
    {
     "name": "stdout",
     "output_type": "stream",
     "text": [
      "(69868, 9)\n"
     ]
    }
   ],
   "source": [
    "interactions_from_selected_users = users_interactions.loc[np.in1d(users_interactions.personId,\n",
    "            users_with_enough_interactions)]\n",
    "print(interactions_from_selected_users.shape)"
   ]
  },
  {
   "cell_type": "markdown",
   "metadata": {},
   "source": [
    "Сейчас каждое отдельное взаимодействие пользователя со статьёй выделено в отдельную запись, то есть пользователь мог просмотреть статью, лайкнуть и прокомментировать её, и всё это отразилось в трёх действиях. Давайте для удобства соединим все эти действия в некоторый коэффициент, который будет отражать интерес пользователя к статье. Так как каждому возможному действию мы ранее уже присвоили вес, то, по сути, нам нужно просто сложить все действия. Однако полученное число будет увеличиваться с количеством действий, и будет очень большой разброс возможных значений. В таких случаях обычно логарифмируют полученный результат с помощью следующей функции:"
   ]
  },
  {
   "cell_type": "code",
   "execution_count": 56,
   "metadata": {},
   "outputs": [],
   "source": [
    "import math\n",
    "\n",
    "def smooth_user_preference(x):\n",
    "    return math.log(1+x, 2)"
   ]
  },
  {
   "cell_type": "markdown",
   "metadata": {},
   "source": [
    "Задание 6.5\n",
    "\n",
    "Примените упомянутое выше преобразование для логарифмирования к сумме весов для взаимодействия пользователя с каждой конкретной статьёй. Также сохраните для каждой пары «пользователь — статья» значение времени последнего взаимодействия.\n",
    "\n",
    "Найдите среднее по признаку с получившимися временными отсечками. Округлите результат до двух знаков после точки-разделителя.\n",
    "\n",
    "Так как наши данные отсортированы по дате, то для того, чтобы выбрать последнее взаимодействие, необходимо использовать метод max().\n",
    "\n",
    "В этом задании необходимо работать с данными, полученными в задании 6.4."
   ]
  },
  {
   "cell_type": "code",
   "execution_count": 57,
   "metadata": {},
   "outputs": [
    {
     "data": {
      "text/plain": [
       "1470605340.0403006"
      ]
     },
     "execution_count": 57,
     "metadata": {},
     "output_type": "execute_result"
    }
   ],
   "source": [
    "def smooth_user_preference(x):\n",
    "    return math.log(1+x, 2)\n",
    "    \n",
    "interactions_full = (\n",
    "    interactions_from_selected_users\n",
    "    .groupby(['personId', 'contentId']).interaction_weight.sum()\n",
    "    .apply(smooth_user_preference)\n",
    "    .reset_index().set_index(['personId', 'contentId'])\n",
    ")\n",
    "interactions_full['last_timestamp'] = (\n",
    "    interactions_from_selected_users\n",
    "    .groupby(['personId', 'contentId'])['timestamp'].max()\n",
    ")\n",
    "        \n",
    "interactions_full = interactions_full.reset_index()\n",
    "interactions_full['last_timestamp'].mean()"
   ]
  },
  {
   "cell_type": "markdown",
   "metadata": {},
   "source": [
    "Разумеется, для того чтобы впоследствии оценить качество построенной рекомендательной системы, нам нужно разделить выборку на обучающую и тестовую. Так как в реальности рекомендации строятся на основе исторических данных о пользователе и контенте, сделаем в нашей задаче разбиение на обучающую и тестовую выборки по временной отсечке."
   ]
  },
  {
   "cell_type": "markdown",
   "metadata": {},
   "source": [
    "Задание 6.6\n",
    "\n",
    "Разделите данные на обучающую и тестовую выборки, выбрав в качестве временной отсечки значение 1475519545. Сколько объектов попало в обучающую выборку?"
   ]
  },
  {
   "cell_type": "code",
   "execution_count": 58,
   "metadata": {},
   "outputs": [
    {
     "name": "stdout",
     "output_type": "stream",
     "text": [
      "29325\n"
     ]
    }
   ],
   "source": [
    "split_ts = 1475519545\n",
    "interactions_train_df = interactions_full.loc[interactions_full.last_timestamp < split_ts].copy()\n",
    "interactions_test_df = interactions_full.loc[interactions_full.last_timestamp >= split_ts].copy()\n",
    "\n",
    "print(len(interactions_train_df))"
   ]
  },
  {
   "cell_type": "markdown",
   "metadata": {},
   "source": [
    "Для удобства дальнейшего измерения качества рекомендаций преобразуйте данные так, чтобы получить таблицу в формате, где строка соответствует пользователю, а столбцы будут истинными предпочтениями и рекомендациями в формате списков. На место пустых ячеек поместите пустые списки."
   ]
  },
  {
   "cell_type": "code",
   "execution_count": 59,
   "metadata": {},
   "outputs": [
    {
     "data": {
      "application/vnd.microsoft.datawrangler.viewer.v0+json": {
       "columns": [
        {
         "name": "personId",
         "rawType": "object",
         "type": "string"
        },
        {
         "name": "true_train",
         "rawType": "object",
         "type": "unknown"
        },
        {
         "name": "true_test",
         "rawType": "object",
         "type": "unknown"
        }
       ],
       "conversionMethod": "pd.DataFrame",
       "ref": "7f78a267-dda6-4a01-a98a-d9c7c346f765",
       "rows": [
        [
         "-1007001694607905623",
         "['-5065077552540450930', '-793729620925729327']",
         "['-6623581327558800021', '1469580151036142903', '7270966256391553686', '8729086959762650511']"
        ],
        [
         "-1032019229384696495",
         "['-1006791494035379303', '-1039912738963181810', '-1081723567492738167', '-1111518890369033396', '-1114438937697017987', '-1137602700803601559', '-1151034582628982912', '-1249582672736761858', '-1254906787526072320', '-1313614305945895108', '-1453783314552286835', '-1470592927114056630', '-1556169727291354289', '-158184760257182670', '-1590585250246572231', '-1622037268576555626', '-1634742667970363668', '-1637159115260338032', '-1654063646246197191', '-1706114177222872702', '-1730766821655383888', '-1737937277055036780', '-1753606726398516179', '-1901742495252324928', '-1917202688559171732', '-1981734999963962468', '-1995591062742965408', '-2038869595290705317', '-205193648629294862', '-2061825422128752184', '-2081760549863309770', '-2083103312491589695', '-2097626568191556277', '-21036008762564671', '-2118981143119783447', '-2176468683077766369', '-2252459228396350242', '-2329480295839698254', '-2382583983070627054', '-2410328180964789831', '-2423593292146522678', '-2479936301516183562', '-2516726696296387544', '-2549933363319068481', '-2559385310537355580', '-264519121623606417', '-2683134512107439488', '-2752345899464432864', '-2766592729910903198', '-277169424764188814', '-2871288807409592', '-2948321821574578861', '-2967429522197137387', '-2990485643677949494', '-3027055440570405664', '-3061741807736367554', '-307396946333196366', '-310216403933861245', '-3114161754347804356', '-3134743773662773628', '-3161714324304758767', '-3173020603774823976', '-3206777048078326150', '-3211843544085892873', '-3285397592982852407', '-3299064309968644318', '-3367778232969996503', '-3400154175330058574', '-3410781775610270991', '-3417523159811412977', '-3428996085514172371', '-3537777320523757545', '-3555513869558669392', '-3581194288660477595', '-3590865837401183812', '-360529647164834348', '-3605608255586388018', '-3653998742295730637', '-3662111110237135231', '-3697359635590244386', '-3700095596785790870', '-3716447017462787559', '-3723217532224917485', '-3750879736572068916', '-3760006690401014603', '-377975173223377441', '-3820497466351868775', '-3850335246895770347', '-387651900461462767', '-3912939678517879962', '-3954182109690207118', '-398780385766545248', '-401664538366009049', '-4027027091658759481', '-4110991218639855802', '-411378842607264055', '-4126288159365354498', '-4130193294870737688', '-4186591400427142356', '-4205346868684833897', '-4216050818952952471', '-4218676349553328084', '-4228415104574264137', '-4233177915193302509', '-4233809085822159066', '-4262964715347041233', '-4278025512576376201', '-4318248821095057296', '-4338308747999225618', '-4374331682165863764', '-4414039190127558142', '-4475938295812802739', '-4485188959476061019', '-4531029390350541169', '-4541461982704074404', '-454649054276160610', '-455124319026316634', '-4571929941432664145', '-4600611344822394376', '-4615575698508618335', '-462708537764773317', '-4749032095489327822', '-4754223659064624252', '-4760639635023250284', '-4765711818183276269', '-4770861947600256785', '-4798431998955209742', '-4844663695104994694', '-4944551138301474550', '-498521148402713730', '-4994468824009200256', '-5002383425685129595', '-5024561776910686117', '-5027816744653977347', '-5037827401452845772', '-5071600977095793163', '-5086435085468197402', '-5154395767417065070', '-5161313513317812402', '-5170198873410718233', '-5181489804915739633', '-518690781085251687', '-519908173368613957', '-5253644367331262405', '-5255285107284514595', '-5297634649735765167', '-5331421579623797776', '-535029905294961110', '-5350793437550886525', '-538948733779286129', '-5410531116380081703', '-541666025693385823', '-548976469460064550', '-5515204090203464377', '-5522643017727334716', '-555187669877280641', '-5600393064072065417', '-5750828394349042089', '-5756697018315640725', '-5778988730475305016', '-5798690764728257756', '-5799839529845993396', '-5924996404988010', '-5997769775112032630', '-6009377241272750648', '-6016433871633244814', '-601952361752157430', '-6035458164887182128', '-605114438206384896', '-6151852268067518688', '-6156751702010469220', '-6184570078369383337', '-6192959589652486637', '-6195775145989617417', '-6245566021053602636', '-6255158415883847921', '-6255454949363031923', '-6273159470243757969', '-6347212504547574224', '-6369211973034956889', '-637050915727878966', '-6467708104873171151', '-6484638837208285334', '-6511498353814468913', '-6523871595334455509', '-6545872007932025533', '-6566328419164841526', '-6625273991455881177', '-662806181534790446', '-6644942243927487010', '-6726685468116057064', '-6727357771678896471', '-6727393385193911938', '-6810702648836067504', '-6814865160063205794', '-6840859460575237450', '-6843047699859121724', '-6858240061363309239', '-6858665134018491791', '-6874540813378776198', '-6878119266243511199', '-6940659689413147290', '-6980020268309524947', '-6993279786012379694', '-70211258489242437', '-7043209138459666190', '-7051470020148066326', '-7082978776831463151', '-7126520323752764957', '-7162567255723313045', '-7165716941095296287', '-7174595923544719736', '-7202774608580336956', '-720777800522871309', '-724699218170106849', '-7315032288233856709', '-7331393944609614247', '-7380550029266431533', '-7399665664688732365', '-7454907763335725103', '-7463305179076477879', '-7550906488404754851', '-7571123172959828025', '-7584037043735285197', '-7585525446062170144', '-7586203274767893481', '-7620438371471449873', '-7646489242554562522', '-7681408188643141872', '-7684863035595645318', '-7702672626132856079', '-7714713652743527644', '-7805090055463938263', '-7809508238092432842', '-7820640624231356730', '-7876497512693688413', '-7891960098457323262', '-7908990633460844158', '-8009527121402763559', '-8030181764663752939', '-8085935119790093311', '-8099145207792678586', '-8149429101569453081', '-8159730897893673528', '-8189315446782327370', '-823697973575832204', '-8279505492976427918', '-8282357075607822317', '-8311338126170554747', '-8312968399134741370', '-8349788035147634450', '-8377626164558006982', '-8404657131309965885', '-8426084422061984285', '-8449536481786923901', '-8511291357261863413', '-8512461968928613053', '-8518096793350810174', '-8587352636561360574', '-860751600992244121', '-8615957592921855596', '-8618420761918493321', '-862645085190435621', '-8689461307495241608', '-8706427875719844202', '-8723313435347324769', '-8742648016180281673', '-8762137947059829459', '-8771338872124599367', '-8819557474068526071', '-8854146354650101086', '-885886002174762919', '-8876785823151614444', '-89955207814154444', '-9002191823887486987', '-9033211547111606164', '-9041546321432974047', '-9055044275358686874', '-9073210245497295284', '-9090514312860140897', '-9107331682787867601', '-9128652074338368262', '-9128741757954228992', '-9160910454530522563', '-9176143510534135851', '-9192549002213406534', '-9222795471790223670', '-92787874211637246', '-958925381525830552', '-986027724303592548', '1002673045600956890', '1005751836898964351', '1031060816592502094', '1041289933344278866', '1114791714656282929', '1118048247334038458', '1128840733277618400', '1137471872769164371', '1177957942021788639', '1179017557429431126', '1181735998104559604', '119886322445874454', '123378787151399958', '1318981494172475806', '1339353160969606996', '1356221992133852808', '1362723651715193305', '1415230502586719648', '1433393829724383645', '1436883058900979473', '1441248639512899483', '1449689399273695199', '1468327003955810686', '1515492713000932747', '1525777409079968377', '153466256338950062', '1549650080907932816', '1590841424376000970', '1595230810451459837', '1649085803937938638', '1662917027785920354', '1674373276159762025', '1698483880714927645', '171877380813632915', '1738052593226421681', '1852992637140705599', '1862503310075246782', '1881534532776527237', '1929674614667189969', '1954074927376897165', '1968587931268137930', '201515581783532281', '2025471325746532174', '2072448887839540892', '2075656428057535795', '2093656054622337275', '2124033843135988844', '216869981229779312', '2255603060224026824', '2271793263120018251', '2285392309373358857', '2296515698565489277', '230807360572081472', '2313825045587317872', '2333823948799779498', '2393972361498749268', '2429264894470039764', '2457939609972623332', '2546734694784514225', '2586379029487881843', '2602738827388230683', '2608740049979127115', '2625883933130361261', '2668307045795933565', '2672238531812965181', '2695065703077082407', '2731915238980099593', '2764830801602925772', '279771472506428952', '2822049545552366036', '2841458704671711663', '2857117417189640073', '2858969450431709251', '2885511262558254418', '288653248451617914', '2901480192726556992', '2910288655685129221', '2916072977192006313', '2917561522815946740', '2927476152522512441', '3035329611795434601', '3041906492387035176', '3068975614432538771', '3075564241645350154', '3075810310719170278', '3097721536109455446', '310515487419366995', '3149164017776669829', '3151804887212279872', '3162261384765351942', '3168079495368669052', '3180608611815082945', '3193164045772142182', '3218993154926038233', '3262563792577344354', '3269302169678465882', '3294074907209583622', '3296513714237850943', '3306277069425849869', '3320201327008235211', '3353902017498793780', '3361679265573758500', '3382511589554885024', '3495098006178009360', '3547081132182529111', '3548262914600772288', '358192030955601318', '3611701510490148233', '3702150017806959874', '3703141283586666995', '3761187656635209729', '3779434447835779494', '3779639438468810958', '379773866860040428', '3799414975499163376', '381577463519666187', '3880098804615440102', '3915768615016750361', '3980405883168341377', '3989649621607163677', '3998743085432844199', '4012770927504386801', '4056017896532335209', '4061646345741687197', '408569329455206654', '4117174730087083056', '4118743389464105405', '4139191914110236238', '4153717385931831462', '4156291407717900798', '4195778828921942020', '4259370161044254504', '4277778562135834208', '4296604388230897073', '430255078684584595', '4303142677581479651', '4328888515190573663', '4369833742675497700', '4375556914674736641', '4419562057180692966', '444378495316508239', '4508362112182399467', '4563006651994272837', '4579557799493615039', '4597139024287190193', '4625350031392752392', '4657430003888493310', '4668172927098913296', '4695698299220703541', '4761910285123871012', '4774970687540378081', '4807410384082534048', '4807721425375438334', '4812089894709919859', '4843782008053284888', '4877833951599818487', '4911701623098526999', '491373795166252904', '5009420943344705199', '5037221949349729844', '505090987429665116', '5088013394045185972', '5092635400707338872', '511891900317865118', '5145921881592486583', '5152069678055228801', '5156657166068502754', '5183878957903248326', '5206308811707978799', '5217724704513784613', '5227822864949117283', '5237574390644778994', '5238119115012015307', '5250363310227021277', '5270696484536580646', '5293701842202310496', '5299613310913826266', '5302085907556673015', '5304344058087060692', '5314107418764884230', '532564948976818124', '5379671084978512851', '5398961846611539065', '5431399346444238856', '5446022903655412342', '549631724393582960', '5533752987392101383', '5589105207760786822', '5659318589553771161', '5680566822246004912', '5684817723169964056', '5688279681867464747', '5822211783543822544', '5827857898404399503', '5870088709232734362', '5875183869203898283', '5906767912084571064', '5913609969272242724', '5934557073194045393', '5962268176939710955', '5979676385148714519', '6040574489860277999', '6044362651232258738', '6045455576279706291', '607684800821303652', '6152652267138213180', '621816023396605502', '6237433897543964784', '6285786669275987455', '6304895356046683527', '6340108943344143104', '638282658987724754', '6428429126612898364', '6437568358552101410', '65053321054180411', '6519443272707698315', '6525794335263078309', '6757348772114374254', '6783622248311192269', '6807042796917367736', '6829640091575814990', '6850500272809381909', '6852597772196653540', '6915731723505426291', '6932547594283220441', '6987435400166905688', '7024819429467163565', '7078276984547732873', '7124632953201847659', '7155061818771055780', '7229629480273331039', '7238948407563080770', '7251252752220327534', '7253370880729538418', '7255021292858609470', '7277161137091492767', '7342707578347442862', '734632752661830332', '7351002593233940239', '7395435905985567130', '7400903238402587728', '7446166231252589534', '7454130161726657097', '7458850059926549081', '7459726589306441015', '7467940062038388159', '7498047411414226273', '7526364197140419661', '7569814035922103969', '7572869304086387835', '7606744605433799135', '7620697593009487898', '764116021156146784', '7653591914898297019', '7664140604181040222', '7756118769128656312', '7767869406844505704', '7804826445069770894', '7813943820850065086', '7818691400791322406', '786135087362634258', '7905485530310717815', '7938100642081250873', '8076265166566225141', '8119274153437896343', '817145340976958200', '8210960017870928723', '8224860111193157980', '8265190708606665292', '8316918063034631031', '833256912680066502', '8342423402350940832', '8413971365124666862', '8482750322470893687', '8559816910657872807', '8586403905004879205', '8589361101754366293', '8596997246990922861', '8637400873589298078', '8676570915361993722', '8689098216946253326', '8690601908689146128', '8742078838645536785', '8754824745136110042', '882422233694040097', '8828175072897143018', '8847604225354271039', '8871666435351703640', '8878031598946138458', '8890720798209849691', '8912004903894879756', '8962537427807366481', '8963770574956550187', '8974280745225397183', '8982094176562780806', '910894669274456978', '911037455259135591', '9122627895188486603', '9151634133568930081', '9207286802575546269', '9209629151177723638', '9217155070834564627', '943818026930898372']",
         "['-1415040208471067980', '-2555801390963402198', '-2780168264183400543', '-2871347907044769386', '-2923886912694084893', '-3267081294086663175', '-3269885695260066314', '-3751249597609107201', '-3870325027932266414', '-4270702541777554377', '-4293262855938209141', '-4483059513836093676', '-4487024160266973763', '-5082274522455747241', '-547324075613341407', '-5658245291907121574', '-5790539535722288419', '-6289909056857931861', '-6380034335041404646', '-6510151088126868601', '-6654470039478316910', '-6932442635231192683', '-7215110246375999491', '-7294716554902079523', '-7384231993217222764', '-8190931845319543363', '-8615008595949058842', '-8657415528200615063', '-8800029253812071912', '-8900113512825364282', '-9086955082453789880', '1220948775534529013', '1580124381109623727', '1649752043999819668', '2384931701643938149', '2760335717049716507', '3465127447598546258', '3566197569262766169', '3585886677712899987', '3750772607644674028', '4607279316199873708', '4671890082953295903', '524776334673868069', '5263606973029607223', '6389624212149850449', '6591221581057159843', '660451400045043370', '6847460841437230342', '7793363699831164066', '7814856426770804213', '8289311442635691404', '8340838192486391835', '8786528563105605644', '8836508987743809103', '9045808098977760576']"
        ],
        [
         "-108842214936804958",
         "['-1196068832249300490', '-133139342397538859', '-1449104782233586994', '-1484165300616478995', '-1556169727291354289', '-1590585250246572231', '-1625217607550912638', '-1633984990770981161', '-1654063646246197191', '-1672165618620086344', '-1672166631728511207', '-1901742495252324928', '-2030742781169834114', '-2118981143119783447', '-2144625344076628986', '-240359174314633445', '-2429242279408079104', '-2584174137395076448', '-277169424764188814', '-3161714324304758767', '-3170855186954139022', '-3299064309968644318', '-3400154175330058574', '-3428996085514172371', '-3460883803089049921', '-3499919498720038879', '-3718969219417182449', '-3739000323288188282', '-3964583697784528168', '-3980612444042641628', '-398780385766545248', '-401664538366009049', '-4110991218639855802', '-4205346868684833897', '-4216050818952952471', '-4316394955033262743', '-4320251915347436672', '-4505450219733822767', '-4541461982704074404', '-4571929941432664145', '-4600611344822394376', '-462708537764773317', '-4662020648308370136', '-5002383425685129595', '-5014627593450767720', '-5024561776910686117', '-5179258585851879449', '-5405021817466310759', '-541666025693385823', '-5515204090203464377', '-5522643017727334716', '-5570256785328462468', '-5625593730080264433', '-5679427141235752819', '-5691384416070374740', '-5778988730475305016', '-5781461435447152359', '-5798690764728257756', '-6009377241272750648', '-6121430502305136434', '-6157984812065160219', '-6195775145989617417', '-6255454949363031923', '-6362758570633473480', '-6467708104873171151', '-6484638837208285334', '-6625273991455881177', '-6634868367571835312', '-6704596170548214779', '-6778286518036232293', '-6814865160063205794', '-6840859460575237450', '-6858665134018491791', '-6874540813378776198', '-703416562539077070', '-7051470020148066326', '-7126520323752764957', '-7162567255723313045', '-7298164314968527788', '-7380550029266431533', '-7474372733748503487', '-7566966163569468290', '-7673844339521298105', '-7681408188643141872', '-7820640624231356730', '-8018088591294066196', '-8099145207792678586', '-8194774279664546436', '-8349788035147634450', '-8427763028519233712', '-844797936291539016', '-8510490754427841940', '-8689461307495241608', '-8706427875719844202', '-8723313435347324769', '-8742648016180281673', '-8797444257711529901', '-8819557474068526071', '-8876785823151614444', '-8949113594875411859', '-8980834789053459155', '-9073210245497295284', '-9107331682787867601', '-9128741757954228992', '-9190737901804729417', '-998818216447049475', '1002673045600956890', '1005751836898964351', '1021466437456217445', '1031060816592502094', '1137471872769164371', '1179017557429431126', '1356221992133852808', '1415230502586719648', '1434312143013787309', '1441248639512899483', '1449689399273695199', '1459131257418324496', '1468327003955810686', '1487738553913510703', '1540456027678548167', '1544550983918141657', '156889606517612871', '1582315529508020223', '1592600391233958243', '162771765556771108', '1665726676688122621', '1738052593226421681', '1929674614667189969', '2124033843135988844', '2333823948799779498', '2393972361498749268', '2470587255066232267', '2541499697677936774', '2668307045795933565', '2687654465640040976', '2695065703077082407', '2727743992157210358', '2736373711035411385', '2857117417189640073', '2879555397105020076', '2885511262558254418', '2901480192726556992', '2925450084561574364', '3017826600888052926', '3035329611795434601', '3149164017776669829', '3168079495368669052', '3172866488852888544', '3218993154926038233', '3294074907209583622', '3306277069425849869', '3320201327008235211', '3322348437880079228', '3394403706511230595', '3492139128548911513', '3496156626367166618', '374352050712569304', '3761187656635209729', '3929262240746146680', '3989649621607163677', '4089568303716665454', '4117174730087083056', '4118743389464105405', '4311772163179839306', '4340103631421550622', '4355464044208438135', '4373020502739965726', '4419562057180692966', '4441012164161473407', '4575580212020245658', '4751741894255718069', '4761910285123871012', '4774970687540378081', '4781931173636001110', '4843782008053284888', '5082053563644129584', '5147907773522671167', '5206308811707978799', '5238119115012015307', '5311977399951270341', '5350829677696205474', '5424502143558028097', '5431399346444238856', '54678605145828343', '5568089143939945595', '5619269934194012474', '5684817723169964056', '5688279681867464747', '5834671664627894569', '5843350704442714396', '589254894302309232', '5906767912084571064', '5979676385148714519', '6016376495317032228', '6040574489860277999', '6042459843569845586', '6044362651232258738', '6045455576279706291', '6237433897543964784', '626121253933491500', '6309804346176212907', '6369367631770966886', '638282658987724754', '65053321054180411', '6525794335263078309', '6540624159201421051', '657779080033041603', '6754417485681598974', '6858632230975272305', '6932547594283220441', '6980529106338478812', '6997620589258672675', '7024819429467163565', '7036087807129071010', '7238948407563080770', '7255021292858609470', '7395435905985567130', '7400903238402587728', '7498047411414226273', '7516228655554309785', '7526364197140419661', '7555106864392724379', '7606744605433799135', '7620697593009487898', '7645026617184703521', '7664140604181040222', '7748594134538052724', '7804826445069770894', '7828019124127586556', '786135087362634258', '7883212773611521498', '8049518593334748695', '8118799783881928573', '8120046881003900118', '8295457724580096419', '834896074125772354', '8433131156569129937', '8676570915361993722', '8690601908689146128', '8742078838645536785', '8754824745136110042', '8878031598946138458', '8890720798209849691', '8920226233198909725', '8926889915100214784', '8969476626572775042', '8982094176562780806', '910894669274456978', '9122627895188486603', '9124439338148818380', '9207286802575546269', '966067567430037498']",
         "['-2780168264183400543', '-3060116862184714437', '-3450690190989108770', '-4029704725707465084', '-4487024160266973763', '-5403733687257676872', '-6579094253358169934', '-7539647701814009718', '2822049545552366036', '2952636544547704346', '3293246847422795557', '4815632823882298534', '5384282624557636856', '5842191581670322333', '660451400045043370', '8020104407235635818', '8428597553954921991']"
        ],
        [
         "-1130272294246983140",
         "['-1150591229250318592', '-1196068832249300490', '-1365928983118861754', '-1596335233529956315', '-1622037268576555626', '-1633984990770981161', '-1771108209511321547', '-2030742781169834114', '-205193648629294862', '-2252459228396350242', '-2424983931459616622', '-2559385310537355580', '-3061741807736367554', '-3336755617029300430', '-3410781775610270991', '-3716447017462787559', '-3734583695144530256', '-3750879736572068916', '-5071600977095793163', '-5386512752101672374', '-541666025693385823', '-5458316826145145813', '-5491334714953807444', '-5515204090203464377', '-5570129644089964821', '-5628343274127925011', '-5781461435447152359', '-5848514031542611523', '-6124198068300347794', '-6207670654614839859', '-6479058008972757948', '-6778286518036232293', '-6783772548752091658', '-6820241302436968068', '-6980020268309524947', '-7191607771634445823', '-7660505434580831027', '-7681408188643141872', '-7812176982819372240', '-7838000919054582150', '-8018088591294066196', '-8142426490949346803', '-8245663037926520114', '-8377626164558006982', '-8426084422061984285', '-8797444257711529901', '-8949113594875411859', '-9090514312860140897', '-9092333155845304874', '-9161596996229760398', '1314740759271289025', '1356221992133852808', '1468327003955810686', '2048657552251060795', '2124033843135988844', '2250978527027854837', '2255878226385826814', '2687654465640040976', '2709926970543371965', '2736373711035411385', '2910288655685129221', '310515487419366995', '335910242745901755', '3460026829794173084', '358192030955601318', '3689128258624052102', '3799414975499163376', '4056017896532335209', '4259370161044254504', '4891164246772479976', '4911701623098526999', '5037221949349729844', '5211673327552264703', '5238119115012015307', '5293701842202310496', '5395868751435718725', '5441215535748592870', '5530820581773167955', '5688279681867464747', '6031953227014493100', '6206342468637502921', '6437568358552101410', '6587635730509289343', '6829640091575814990', '6989198691754522425', '7229629480273331039', '7734121175534200554', '834896074125772354', '8396284143617057811', '886450434856305025', '8890720798209849691', '9079880752026843473', '943818026930898372']",
         "['-1606980109000976010', '-1663441888197894674', '-2314360211211303885', '-2890958311805113955', '-4024233104105796278', '-4487024160266973763', '-5116903270312432935', '-6584408680441477889', '-6836878558969096936', '-7120369133608664808', '-7527881206365368', '1233935898842140014', '1738052593226421681', '3440451510720294447', '4559158557590109105', '4815632823882298534', '660451400045043370', '7065704533945771463', '8477804012624580461']"
        ],
        [
         "-1160159014793528221",
         "['-133139342397538859', '-387651900461462767', '3779434447835779494', '5398961846611539065', '7508152369854945139']",
         "['-3462051751080362224']"
        ]
       ],
       "shape": {
        "columns": 2,
        "rows": 5
       }
      },
      "text/html": [
       "<div>\n",
       "<style scoped>\n",
       "    .dataframe tbody tr th:only-of-type {\n",
       "        vertical-align: middle;\n",
       "    }\n",
       "\n",
       "    .dataframe tbody tr th {\n",
       "        vertical-align: top;\n",
       "    }\n",
       "\n",
       "    .dataframe thead th {\n",
       "        text-align: right;\n",
       "    }\n",
       "</style>\n",
       "<table border=\"1\" class=\"dataframe\">\n",
       "  <thead>\n",
       "    <tr style=\"text-align: right;\">\n",
       "      <th></th>\n",
       "      <th>true_train</th>\n",
       "      <th>true_test</th>\n",
       "    </tr>\n",
       "    <tr>\n",
       "      <th>personId</th>\n",
       "      <th></th>\n",
       "      <th></th>\n",
       "    </tr>\n",
       "  </thead>\n",
       "  <tbody>\n",
       "    <tr>\n",
       "      <th>-1007001694607905623</th>\n",
       "      <td>[-5065077552540450930, -793729620925729327]</td>\n",
       "      <td>[-6623581327558800021, 1469580151036142903, 72...</td>\n",
       "    </tr>\n",
       "    <tr>\n",
       "      <th>-1032019229384696495</th>\n",
       "      <td>[-1006791494035379303, -1039912738963181810, -...</td>\n",
       "      <td>[-1415040208471067980, -2555801390963402198, -...</td>\n",
       "    </tr>\n",
       "    <tr>\n",
       "      <th>-108842214936804958</th>\n",
       "      <td>[-1196068832249300490, -133139342397538859, -1...</td>\n",
       "      <td>[-2780168264183400543, -3060116862184714437, -...</td>\n",
       "    </tr>\n",
       "    <tr>\n",
       "      <th>-1130272294246983140</th>\n",
       "      <td>[-1150591229250318592, -1196068832249300490, -...</td>\n",
       "      <td>[-1606980109000976010, -1663441888197894674, -...</td>\n",
       "    </tr>\n",
       "    <tr>\n",
       "      <th>-1160159014793528221</th>\n",
       "      <td>[-133139342397538859, -387651900461462767, 377...</td>\n",
       "      <td>[-3462051751080362224]</td>\n",
       "    </tr>\n",
       "  </tbody>\n",
       "</table>\n",
       "</div>"
      ],
      "text/plain": [
       "                                                             true_train  \\\n",
       "personId                                                                  \n",
       "-1007001694607905623        [-5065077552540450930, -793729620925729327]   \n",
       "-1032019229384696495  [-1006791494035379303, -1039912738963181810, -...   \n",
       "-108842214936804958   [-1196068832249300490, -133139342397538859, -1...   \n",
       "-1130272294246983140  [-1150591229250318592, -1196068832249300490, -...   \n",
       "-1160159014793528221  [-133139342397538859, -387651900461462767, 377...   \n",
       "\n",
       "                                                              true_test  \n",
       "personId                                                                 \n",
       "-1007001694607905623  [-6623581327558800021, 1469580151036142903, 72...  \n",
       "-1032019229384696495  [-1415040208471067980, -2555801390963402198, -...  \n",
       "-108842214936804958   [-2780168264183400543, -3060116862184714437, -...  \n",
       "-1130272294246983140  [-1606980109000976010, -1663441888197894674, -...  \n",
       "-1160159014793528221                             [-3462051751080362224]  "
      ]
     },
     "execution_count": 59,
     "metadata": {},
     "output_type": "execute_result"
    }
   ],
   "source": [
    "final_df = (\n",
    "    interactions_train_df.reset_index()\n",
    "    .groupby('personId')['contentId'].agg(lambda x: list(x))\n",
    "    .reset_index()\n",
    "    .rename(columns={'contentId': 'true_train'})\n",
    "    .set_index('personId')\n",
    ")\n",
    "\n",
    "final_df['true_test'] = (\n",
    "    interactions_test_df.reset_index()\n",
    "    .groupby('personId')['contentId'].agg(lambda x: list(x))\n",
    ")\n",
    "\n",
    "final_df['true_test'] = [ [] if x is np.NaN else x for x in final_df['true_test'] ]\n",
    "final_df.head()"
   ]
  },
  {
   "cell_type": "markdown",
   "metadata": {},
   "source": [
    "Задание 6.7\n",
    "\n",
    "Осталось совсем немного — скоро вы получите свою первую систему рекомендаций! Мы будем строить popular-based-модель, а значит, нам необходимо найти самые популярные статьи.\n",
    "\n",
    "Посчитайте популярность каждой статьи как сумму всех логарифмических «оценок» взаимодействий с ней (используя только обучающую выборку). Выберите ID самой популярной статьи:"
   ]
  },
  {
   "cell_type": "code",
   "execution_count": 60,
   "metadata": {},
   "outputs": [
    {
     "data": {
      "text/plain": [
       "'-6783772548752091658'"
      ]
     },
     "execution_count": 60,
     "metadata": {},
     "output_type": "execute_result"
    }
   ],
   "source": [
    "popular = (\n",
    "    interactions_train_df\n",
    "    .groupby('contentId')\n",
    "    .interaction_weight.sum().reset_index()\n",
    "    .sort_values('interaction_weight', ascending=False)\n",
    "    .contentId.values\n",
    ")\n",
    "popular[0]"
   ]
  },
  {
   "cell_type": "markdown",
   "metadata": {},
   "source": [
    "Теперь необходимо сформировать рекомендации для каждого пользователя. Будем рекомендовать десять самых популярных статей. Также необходимо помнить, что следует предлагать пользователю только то, что он ещё не читал."
   ]
  },
  {
   "cell_type": "markdown",
   "metadata": {},
   "source": [
    "Для вычисления precision@10 воспользуйтесь следующей функцией:"
   ]
  },
  {
   "cell_type": "markdown",
   "metadata": {},
   "source": [
    "Задание 6.8\n",
    "\n",
    "Постройте систему рекомендаций. Оцените качество с помощью precision@10 для каждого пользователя (доля угаданных рекомендаций). После этого усредните результат по всем пользователям."
   ]
  },
  {
   "cell_type": "code",
   "execution_count": 61,
   "metadata": {},
   "outputs": [],
   "source": [
    "def precision(column):\n",
    "    return (final_df.apply(lambda row:\n",
    "            len(set(row['true_test']).intersection(set(row[column]))) /\n",
    "            min(len(row['true_test']) + 0.001, 10.0),axis=1)).mean()"
   ]
  },
  {
   "cell_type": "markdown",
   "metadata": {},
   "source": [
    "Итоговый результат округлите до трёх знаков после точки-разделителя.\n",
    "\n",
    "В этом задании необходимо использовать данные, полученные в задании 6.6 (для которых приведён скриншот выше)."
   ]
  },
  {
   "cell_type": "code",
   "execution_count": 62,
   "metadata": {},
   "outputs": [
    {
     "data": {
      "text/plain": [
       "0.006454207722621089"
      ]
     },
     "execution_count": 62,
     "metadata": {},
     "output_type": "execute_result"
    }
   ],
   "source": [
    "top_k = 10\n",
    " \n",
    "final_df['popular'] = (final_df.true_train.apply(lambda x: popular[~np.in1d(popular, x)][:top_k]))\n",
    "\n",
    "def calc_precision(column):\n",
    "    return (\n",
    "        final_df\n",
    "        .apply(\n",
    "            lambda row:\n",
    "            len(set(row['true_test']).intersection(\n",
    "                set(row[column]))) /\n",
    "            min(len(row['true_test']) + 0.001, 10.0),\n",
    "            axis=1)).mean()\n",
    "calc_precision('popular')"
   ]
  },
  {
   "cell_type": "markdown",
   "metadata": {},
   "source": [
    "Качество получилось не очень высоким, но ведь и рекомендации у нас были неперсонализированными.\n",
    "\n",
    "Примечание. Стоит отметить, что качество РС оценивается не так, как в задачах классификации: показателей выше 0.5 добиться практически невозможно, и даже результат 0.1–0.2 — индикатор высокого качества.\n",
    "\n"
   ]
  }
 ],
 "metadata": {
  "kernelspec": {
   "display_name": "Python 3",
   "language": "python",
   "name": "python3"
  },
  "language_info": {
   "codemirror_mode": {
    "name": "ipython",
    "version": 3
   },
   "file_extension": ".py",
   "mimetype": "text/x-python",
   "name": "python",
   "nbconvert_exporter": "python",
   "pygments_lexer": "ipython3",
   "version": "3.11.2"
  }
 },
 "nbformat": 4,
 "nbformat_minor": 2
}
